{
 "cells": [
  {
   "attachments": {},
   "cell_type": "markdown",
   "metadata": {},
   "source": [
    "# Composites\n",
    "\n",
    "**Median composites**\n",
    "\n",
    "One of the key reasons for generating a composite is to replace pixels classified as clouds with realistic values from the available data. This results in an image that doesn’t contain any clouds. In the case of a median composite, each pixel is selected to have the median (or middle) value out of all possible values.\n",
    "\n",
    "```{note}\n",
    "Care should be taken when using these composites for analysis, since the relationships between spectral bands are not preserved. These composites are also affected by the timespan they’re generated over. For example, the median pixel in a single season may be different to the median value for the whole year.\n",
    "```\n",
    "\n",
    "**Mean composites**\n",
    "\n",
    "Mean composites involve taking the average value for each pixel, rather than the middle value as is done for a median composite. Unlike the median, the mean composite can contain pixel values that were not part of the original dataset.\n",
    "\n",
    "```{note}\n",
    "Care should be taken when interpreting these images, as extreme values (such as unmasked cloud) can strongly affect the mean.\n",
    "```\n",
    "\n",
    "**Minimum and maximum composites**\n",
    "\n",
    "These composites can be useful for identifying extreme behaviour in a collection of satellite images.\n",
    "\n",
    "For example, comparing the maximum and minimum composites for a given band index could help identify areas that take on a wide range of values, which may indicate areas that have high variability over the time-line of the composite.\n",
    "\n",
    "**Nearest-time composites (not implemented yet !)**\n",
    "\n",
    "To get an image at a certain time, often there is missing data, due to clouds and other masking. We can fill in these gaps by using data from surrounding times.\n",
    "\n",
    "*Most-recent composite*\n",
    "\n",
    "Sometime we may want to determine what the landscape looks like by examining the most recent image. If we look at the last image for our dataset, we may see there is some missing data in the last image.\n",
    "\n",
    "*Before and after composites*\n",
    "\n",
    "Often it is useful to view images before and after an event, to see the change that has occured. To generate a composite on either side of an event, we can split the dataset along time.\n",
    "\n",
    "*Nearest time composite*\n",
    "\n",
    "Sometimes we just want the closest available data to a particular point in time. This composite will take values from before or after the specified time to find the nearest observation.\n",
    "\n",
    "![reducer](Reduce_ImageCollection.png)\n"
   ]
  },
  {
   "cell_type": "code",
   "execution_count": 39,
   "metadata": {},
   "outputs": [
    {
     "name": "stdout",
     "output_type": "stream",
     "text": [
      "All libraries successfully imported!\n"
     ]
    }
   ],
   "source": [
    "import glob, os\n",
    "import numpy as np\n",
    "import pandas as pd\n",
    "import geopandas as gpd\n",
    "import rasterio\n",
    "import rasterio.plot\n",
    "import datetime\n",
    "from pathlib import Path\n",
    "from IPython.display import display\n",
    "\n",
    "print('All libraries successfully imported!')"
   ]
  },
  {
   "cell_type": "markdown",
   "metadata": {},
   "source": [
    "**Set directory**"
   ]
  },
  {
   "cell_type": "code",
   "execution_count": 40,
   "metadata": {},
   "outputs": [],
   "source": [
    "computer_path = '/export/miro/ndeffense/LBRAT2104/'\n",
    "grp_nb        = '99'\n",
    "\n",
    "# Directory for all work files\n",
    "work_path = f'{computer_path}STUDENTS/GROUP_{grp_nb}/TP/'\n",
    "\n",
    "# Output directory\n",
    "composite_path = f'{work_path}COMPOSITE/'\n",
    "\n",
    "Path(composite_path).mkdir(parents=True, exist_ok=True)"
   ]
  },
  {
   "cell_type": "markdown",
   "metadata": {},
   "source": [
    "**Set parameters**\n",
    "\n",
    "Compositing method :\n",
    "* mean\n",
    "* median\n",
    "* maximum\n",
    "* minimum"
   ]
  },
  {
   "cell_type": "code",
   "execution_count": 41,
   "metadata": {},
   "outputs": [],
   "source": [
    "method = 'minimum'\n",
    "\n",
    "start_period_str = '20200101'   # format : YYYYMMDD\n",
    "end_period_str   = '20200601'   # format : YYYYMMDD\n",
    "\n",
    "no_data_val = -10000"
   ]
  },
  {
   "attachments": {},
   "cell_type": "markdown",
   "metadata": {},
   "source": [
    "**Select the folder with the image timeserie**"
   ]
  },
  {
   "cell_type": "code",
   "execution_count": 42,
   "metadata": {},
   "outputs": [],
   "source": [
    "image_selected = 'B04'\n",
    "\n",
    "if image_selected == 'NDVI':\n",
    "\n",
    "    raster_file_list = sorted(glob.glob(f'{work_path}NDVI/*.tif'))\n",
    "\n",
    "elif image_selected == 'B04':\n",
    "    \n",
    "    raster_file_list = sorted(glob.glob(f'{work_path}3_L2A_MASKED/*_B04_*.tif'))"
   ]
  },
  {
   "cell_type": "markdown",
   "metadata": {},
   "source": [
    "**Date**\n",
    "\n",
    "The date must be in each image filename. `begin_date` is the first position of the date\n",
    "\n",
    "E.g. : \"SITE_3_**2**0181108_NDVI.tif\" --> **begin_date = 8**"
   ]
  },
  {
   "cell_type": "code",
   "execution_count": 43,
   "metadata": {},
   "outputs": [],
   "source": [
    "format     = '%Y%m%d' # format : YYYYMMDD\n",
    "begin_date = 8"
   ]
  },
  {
   "cell_type": "markdown",
   "metadata": {},
   "source": [
    "**Set filenames**"
   ]
  },
  {
   "cell_type": "code",
   "execution_count": 44,
   "metadata": {},
   "outputs": [],
   "source": [
    "composite_tif = f'{composite_path}{image_selected}_{method}_composite_{start_period_str}_{end_period_str}.tif'"
   ]
  },
  {
   "attachments": {},
   "cell_type": "markdown",
   "metadata": {},
   "source": [
    "**Get dataframe with all images**\n",
    "- date of acquisition\n",
    "- file path"
   ]
  },
  {
   "cell_type": "code",
   "execution_count": 45,
   "metadata": {},
   "outputs": [
    {
     "data": {
      "text/html": [
       "<div>\n",
       "<style scoped>\n",
       "    .dataframe tbody tr th:only-of-type {\n",
       "        vertical-align: middle;\n",
       "    }\n",
       "\n",
       "    .dataframe tbody tr th {\n",
       "        vertical-align: top;\n",
       "    }\n",
       "\n",
       "    .dataframe thead th {\n",
       "        text-align: right;\n",
       "    }\n",
       "</style>\n",
       "<table border=\"1\" class=\"dataframe\">\n",
       "  <thead>\n",
       "    <tr style=\"text-align: right;\">\n",
       "      <th></th>\n",
       "      <th>date</th>\n",
       "      <th>im_name</th>\n",
       "      <th>im_path</th>\n",
       "    </tr>\n",
       "  </thead>\n",
       "  <tbody>\n",
       "    <tr>\n",
       "      <th>0</th>\n",
       "      <td>2020-01-16</td>\n",
       "      <td>T31UFS_20200116T105309_B04_10m_ROI_SCL.tif</td>\n",
       "      <td>/export/miro/ndeffense/LBRAT2104/STUDENTS/GROU...</td>\n",
       "    </tr>\n",
       "    <tr>\n",
       "      <th>1</th>\n",
       "      <td>2020-02-12</td>\n",
       "      <td>T31UFS_20200212T104049_B04_10m_ROI_SCL.tif</td>\n",
       "      <td>/export/miro/ndeffense/LBRAT2104/STUDENTS/GROU...</td>\n",
       "    </tr>\n",
       "    <tr>\n",
       "      <th>2</th>\n",
       "      <td>2020-03-16</td>\n",
       "      <td>T31UFS_20200316T104709_B04_10m_ROI_SCL.tif</td>\n",
       "      <td>/export/miro/ndeffense/LBRAT2104/STUDENTS/GROU...</td>\n",
       "    </tr>\n",
       "    <tr>\n",
       "      <th>3</th>\n",
       "      <td>2020-04-17</td>\n",
       "      <td>T31UFS_20200417T104021_B04_10m_ROI_SCL.tif</td>\n",
       "      <td>/export/miro/ndeffense/LBRAT2104/STUDENTS/GROU...</td>\n",
       "    </tr>\n",
       "    <tr>\n",
       "      <th>4</th>\n",
       "      <td>2020-05-20</td>\n",
       "      <td>T31UFS_20200520T105031_B04_10m_ROI_SCL.tif</td>\n",
       "      <td>/export/miro/ndeffense/LBRAT2104/STUDENTS/GROU...</td>\n",
       "    </tr>\n",
       "    <tr>\n",
       "      <th>5</th>\n",
       "      <td>2020-06-21</td>\n",
       "      <td>T31UFS_20200621T103629_B04_10m_ROI_SCL.tif</td>\n",
       "      <td>/export/miro/ndeffense/LBRAT2104/STUDENTS/GROU...</td>\n",
       "    </tr>\n",
       "    <tr>\n",
       "      <th>6</th>\n",
       "      <td>2020-07-19</td>\n",
       "      <td>T31UFS_20200719T105031_B04_10m_ROI_SCL.tif</td>\n",
       "      <td>/export/miro/ndeffense/LBRAT2104/STUDENTS/GROU...</td>\n",
       "    </tr>\n",
       "    <tr>\n",
       "      <th>7</th>\n",
       "      <td>2020-08-13</td>\n",
       "      <td>T31UFS_20200813T104629_B04_10m_ROI_SCL.tif</td>\n",
       "      <td>/export/miro/ndeffense/LBRAT2104/STUDENTS/GROU...</td>\n",
       "    </tr>\n",
       "    <tr>\n",
       "      <th>8</th>\n",
       "      <td>2020-09-14</td>\n",
       "      <td>T31UFS_20200914T104031_B04_10m_ROI_SCL.tif</td>\n",
       "      <td>/export/miro/ndeffense/LBRAT2104/STUDENTS/GROU...</td>\n",
       "    </tr>\n",
       "    <tr>\n",
       "      <th>9</th>\n",
       "      <td>2020-10-19</td>\n",
       "      <td>T31UFS_20201019T103959_B04_10m_ROI_SCL.tif</td>\n",
       "      <td>/export/miro/ndeffense/LBRAT2104/STUDENTS/GROU...</td>\n",
       "    </tr>\n",
       "    <tr>\n",
       "      <th>10</th>\n",
       "      <td>2020-11-18</td>\n",
       "      <td>T31UFS_20201118T104329_B04_10m_ROI_SCL.tif</td>\n",
       "      <td>/export/miro/ndeffense/LBRAT2104/STUDENTS/GROU...</td>\n",
       "    </tr>\n",
       "    <tr>\n",
       "      <th>11</th>\n",
       "      <td>2020-12-18</td>\n",
       "      <td>T31UFS_20201218T104349_B04_10m_ROI_SCL.tif</td>\n",
       "      <td>/export/miro/ndeffense/LBRAT2104/STUDENTS/GROU...</td>\n",
       "    </tr>\n",
       "  </tbody>\n",
       "</table>\n",
       "</div>"
      ],
      "text/plain": [
       "          date                                     im_name  \\\n",
       "0   2020-01-16  T31UFS_20200116T105309_B04_10m_ROI_SCL.tif   \n",
       "1   2020-02-12  T31UFS_20200212T104049_B04_10m_ROI_SCL.tif   \n",
       "2   2020-03-16  T31UFS_20200316T104709_B04_10m_ROI_SCL.tif   \n",
       "3   2020-04-17  T31UFS_20200417T104021_B04_10m_ROI_SCL.tif   \n",
       "4   2020-05-20  T31UFS_20200520T105031_B04_10m_ROI_SCL.tif   \n",
       "5   2020-06-21  T31UFS_20200621T103629_B04_10m_ROI_SCL.tif   \n",
       "6   2020-07-19  T31UFS_20200719T105031_B04_10m_ROI_SCL.tif   \n",
       "7   2020-08-13  T31UFS_20200813T104629_B04_10m_ROI_SCL.tif   \n",
       "8   2020-09-14  T31UFS_20200914T104031_B04_10m_ROI_SCL.tif   \n",
       "9   2020-10-19  T31UFS_20201019T103959_B04_10m_ROI_SCL.tif   \n",
       "10  2020-11-18  T31UFS_20201118T104329_B04_10m_ROI_SCL.tif   \n",
       "11  2020-12-18  T31UFS_20201218T104349_B04_10m_ROI_SCL.tif   \n",
       "\n",
       "                                              im_path  \n",
       "0   /export/miro/ndeffense/LBRAT2104/STUDENTS/GROU...  \n",
       "1   /export/miro/ndeffense/LBRAT2104/STUDENTS/GROU...  \n",
       "2   /export/miro/ndeffense/LBRAT2104/STUDENTS/GROU...  \n",
       "3   /export/miro/ndeffense/LBRAT2104/STUDENTS/GROU...  \n",
       "4   /export/miro/ndeffense/LBRAT2104/STUDENTS/GROU...  \n",
       "5   /export/miro/ndeffense/LBRAT2104/STUDENTS/GROU...  \n",
       "6   /export/miro/ndeffense/LBRAT2104/STUDENTS/GROU...  \n",
       "7   /export/miro/ndeffense/LBRAT2104/STUDENTS/GROU...  \n",
       "8   /export/miro/ndeffense/LBRAT2104/STUDENTS/GROU...  \n",
       "9   /export/miro/ndeffense/LBRAT2104/STUDENTS/GROU...  \n",
       "10  /export/miro/ndeffense/LBRAT2104/STUDENTS/GROU...  \n",
       "11  /export/miro/ndeffense/LBRAT2104/STUDENTS/GROU...  "
      ]
     },
     "metadata": {},
     "output_type": "display_data"
    }
   ],
   "source": [
    "dict_list = []\n",
    "\n",
    "\n",
    "for im in raster_file_list:\n",
    "            \n",
    "        date_str = os.path.basename(im)[begin_date-1:begin_date-1+8]\n",
    "\n",
    "        date_im = datetime.datetime.strptime(date_str, format).date()\n",
    "\n",
    "        im_name = os.path.basename(im)\n",
    "\n",
    "        dict_list.append({'date': date_im,\n",
    "                          'im_name':im_name,\n",
    "                          'im_path': im})\n",
    "\n",
    "im_date_path_df = pd.DataFrame.from_dict(dict_list).sort_values('date')\n",
    "\n",
    "display(im_date_path_df)"
   ]
  },
  {
   "attachments": {},
   "cell_type": "markdown",
   "metadata": {},
   "source": [
    "### Select images inside a specific time period"
   ]
  },
  {
   "cell_type": "code",
   "execution_count": 46,
   "metadata": {},
   "outputs": [
    {
     "data": {
      "text/html": [
       "<div>\n",
       "<style scoped>\n",
       "    .dataframe tbody tr th:only-of-type {\n",
       "        vertical-align: middle;\n",
       "    }\n",
       "\n",
       "    .dataframe tbody tr th {\n",
       "        vertical-align: top;\n",
       "    }\n",
       "\n",
       "    .dataframe thead th {\n",
       "        text-align: right;\n",
       "    }\n",
       "</style>\n",
       "<table border=\"1\" class=\"dataframe\">\n",
       "  <thead>\n",
       "    <tr style=\"text-align: right;\">\n",
       "      <th></th>\n",
       "      <th>date</th>\n",
       "      <th>im_name</th>\n",
       "      <th>im_path</th>\n",
       "    </tr>\n",
       "  </thead>\n",
       "  <tbody>\n",
       "    <tr>\n",
       "      <th>0</th>\n",
       "      <td>2020-01-16</td>\n",
       "      <td>T31UFS_20200116T105309_B04_10m_ROI_SCL.tif</td>\n",
       "      <td>/export/miro/ndeffense/LBRAT2104/STUDENTS/GROU...</td>\n",
       "    </tr>\n",
       "    <tr>\n",
       "      <th>1</th>\n",
       "      <td>2020-02-12</td>\n",
       "      <td>T31UFS_20200212T104049_B04_10m_ROI_SCL.tif</td>\n",
       "      <td>/export/miro/ndeffense/LBRAT2104/STUDENTS/GROU...</td>\n",
       "    </tr>\n",
       "    <tr>\n",
       "      <th>2</th>\n",
       "      <td>2020-03-16</td>\n",
       "      <td>T31UFS_20200316T104709_B04_10m_ROI_SCL.tif</td>\n",
       "      <td>/export/miro/ndeffense/LBRAT2104/STUDENTS/GROU...</td>\n",
       "    </tr>\n",
       "    <tr>\n",
       "      <th>3</th>\n",
       "      <td>2020-04-17</td>\n",
       "      <td>T31UFS_20200417T104021_B04_10m_ROI_SCL.tif</td>\n",
       "      <td>/export/miro/ndeffense/LBRAT2104/STUDENTS/GROU...</td>\n",
       "    </tr>\n",
       "    <tr>\n",
       "      <th>4</th>\n",
       "      <td>2020-05-20</td>\n",
       "      <td>T31UFS_20200520T105031_B04_10m_ROI_SCL.tif</td>\n",
       "      <td>/export/miro/ndeffense/LBRAT2104/STUDENTS/GROU...</td>\n",
       "    </tr>\n",
       "  </tbody>\n",
       "</table>\n",
       "</div>"
      ],
      "text/plain": [
       "         date                                     im_name  \\\n",
       "0  2020-01-16  T31UFS_20200116T105309_B04_10m_ROI_SCL.tif   \n",
       "1  2020-02-12  T31UFS_20200212T104049_B04_10m_ROI_SCL.tif   \n",
       "2  2020-03-16  T31UFS_20200316T104709_B04_10m_ROI_SCL.tif   \n",
       "3  2020-04-17  T31UFS_20200417T104021_B04_10m_ROI_SCL.tif   \n",
       "4  2020-05-20  T31UFS_20200520T105031_B04_10m_ROI_SCL.tif   \n",
       "\n",
       "                                             im_path  \n",
       "0  /export/miro/ndeffense/LBRAT2104/STUDENTS/GROU...  \n",
       "1  /export/miro/ndeffense/LBRAT2104/STUDENTS/GROU...  \n",
       "2  /export/miro/ndeffense/LBRAT2104/STUDENTS/GROU...  \n",
       "3  /export/miro/ndeffense/LBRAT2104/STUDENTS/GROU...  \n",
       "4  /export/miro/ndeffense/LBRAT2104/STUDENTS/GROU...  "
      ]
     },
     "metadata": {},
     "output_type": "display_data"
    }
   ],
   "source": [
    "start_date = datetime.datetime.strptime(start_period_str, format).date()\n",
    "end_date   = datetime.datetime.strptime(end_period_str, format).date()\n",
    "\n",
    "mask = (im_date_path_df['date'] > start_date) & (im_date_path_df['date'] <= end_date)\n",
    "\n",
    "im_date_path_df = im_date_path_df.loc[mask]\n",
    "\n",
    "display(im_date_path_df)"
   ]
  },
  {
   "attachments": {},
   "cell_type": "markdown",
   "metadata": {},
   "source": [
    "**Open each image with `rasterio` and add it in list of array**"
   ]
  },
  {
   "cell_type": "code",
   "execution_count": 47,
   "metadata": {},
   "outputs": [
    {
     "name": "stdout",
     "output_type": "stream",
     "text": [
      "Shape of each image of the list : (570, 986)\n",
      "Number of image used to generate the composite : 5\n"
     ]
    }
   ],
   "source": [
    "list_src_arr = []\n",
    "\n",
    "for i, row in im_date_path_df.iterrows():\n",
    "    # Get image path\n",
    "    im_file    = row['im_path']\n",
    "\n",
    "    # Open image with rasterio\n",
    "    src = rasterio.open(im_file, \"r\")\n",
    "\n",
    "    # Get image values in a python array (= matrix)\n",
    "    im_arr = src.read(1)\n",
    "\n",
    "    im_arr = np.where(im_arr == no_data_val, np.nan, im_arr)\n",
    "\n",
    "\n",
    "    # Add pyhon array in a list\n",
    "    list_src_arr.append(im_arr)\n",
    "\n",
    "    # Close rasterio object\n",
    "    src.close()\n",
    "\n",
    "\n",
    "print(f'Shape of each image of the list : {im_arr.shape}')\n",
    "print(f'Number of image used to generate the composite : {len(list_src_arr)}')"
   ]
  },
  {
   "attachments": {},
   "cell_type": "markdown",
   "metadata": {},
   "source": [
    "**Stack arrays**\n",
    "\n",
    "Convert list of 2D matrices (each image of the timeserie) to a single 3D matrix"
   ]
  },
  {
   "cell_type": "code",
   "execution_count": 48,
   "metadata": {},
   "outputs": [
    {
     "name": "stdout",
     "output_type": "stream",
     "text": [
      "(570, 986, 5)\n",
      "There are 5 features\n",
      "The features type is : float64\n"
     ]
    }
   ],
   "source": [
    "im_arr_stack = np.dstack(list_src_arr)\n",
    "\n",
    "print(im_arr_stack.shape)\n",
    "print(f'There are {im_arr_stack.shape[2]} features')\n",
    "print(f'The features type is : {im_arr_stack.dtype}')"
   ]
  },
  {
   "cell_type": "markdown",
   "metadata": {},
   "source": [
    "## Build composite"
   ]
  },
  {
   "cell_type": "code",
   "execution_count": 49,
   "metadata": {},
   "outputs": [
    {
     "name": "stdout",
     "output_type": "stream",
     "text": [
      "[[448. 437. 438. ... 340. 317. 424.]\n",
      " [423. 399. 332. ... 319. 361. 655.]\n",
      " [391. 457. 394. ... 360. 640. 882.]\n",
      " ...\n",
      " [168. 162. 168. ... 886. 808. 914.]\n",
      " [168. 178. 172. ... 822. 788. 890.]\n",
      " [  0.   0.   0. ...   0.   0.   0.]]\n"
     ]
    },
    {
     "name": "stderr",
     "output_type": "stream",
     "text": [
      "/tmp/ipykernel_58693/3509333673.py:11: RuntimeWarning: All-NaN slice encountered\n",
      "  composite_arr = np.nanmin(im_arr_stack, axis=2)\n"
     ]
    }
   ],
   "source": [
    "if method == 'median':\n",
    "    composite_arr = np.nanmedian(im_arr_stack, axis=2)\n",
    "\n",
    "elif method == 'mean':\n",
    "    composite_arr = np.nanmean(im_arr_stack, axis=2)\n",
    "\n",
    "elif method == 'std':\n",
    "    composite_arr = np.nanstd(im_arr_stack, axis=2)\n",
    "\n",
    "elif method == 'minimum':\n",
    "    composite_arr = np.nanmin(im_arr_stack, axis=2)\n",
    "\n",
    "elif method == 'maximum':\n",
    "    composite_arr = np.nanmax(im_arr_stack, axis=2)\n",
    "\n",
    "else:\n",
    "    print(f'Method not available !')\n",
    "\n",
    "print(composite_arr)"
   ]
  },
  {
   "attachments": {},
   "cell_type": "markdown",
   "metadata": {},
   "source": [
    "**If you are generating a composite of reflectance bands, you may want raplce 0 value by No Data**"
   ]
  },
  {
   "cell_type": "code",
   "execution_count": 50,
   "metadata": {},
   "outputs": [],
   "source": [
    "if image_selected == 'B04':\n",
    "    composite_arr = np.where(composite_arr == 0, no_data_val, composite_arr)\n"
   ]
  },
  {
   "cell_type": "markdown",
   "metadata": {},
   "source": [
    "**Write composite in GeoTiff**"
   ]
  },
  {
   "cell_type": "code",
   "execution_count": 51,
   "metadata": {},
   "outputs": [
    {
     "name": "stdout",
     "output_type": "stream",
     "text": [
      "{'driver': 'GTiff', 'dtype': 'int16', 'nodata': -10000.0, 'width': 986, 'height': 570, 'count': 1, 'crs': CRS.from_epsg(32631), 'transform': Affine(10.0, 0.0, 627260.0,\n",
      "       0.0, -10.0, 5596180.0), 'blockysize': 4, 'tiled': False, 'compress': 'lzw', 'interleave': 'band'}\n",
      "New composite file written in : /export/miro/ndeffense/LBRAT2104/STUDENTS/GROUP_99/TP/COMPOSITE/B04_minimum_composite_20200101_20200601.tif\n"
     ]
    }
   ],
   "source": [
    "img_temp_tif = raster_file_list[0]\n",
    "\n",
    "# Open a GeoTIF file to get the metadata (=profile)\n",
    "with rasterio.open(img_temp_tif) as src:\n",
    "    profile = src.profile\n",
    "\n",
    "print(profile)\n",
    "\n",
    "# Write the composite array in a new GeoTIF file unsing metadata of an exisiting file\n",
    "with rasterio.open(composite_tif, \"w\", **profile) as dst:\n",
    "    dst.write(composite_arr, 1)\n",
    "\n",
    "print(f'New composite file written in : {composite_tif}')"
   ]
  }
 ],
 "metadata": {
  "interpreter": {
   "hash": "31f2aee4e71d21fbe5cf8b01ff0e069b9275f58929596ceb00d14d90e3e16cd6"
  },
  "kernelspec": {
   "display_name": "Python 3.6.12 64-bit",
   "language": "python",
   "name": "python3"
  },
  "language_info": {
   "codemirror_mode": {
    "name": "ipython",
    "version": 3
   },
   "file_extension": ".py",
   "mimetype": "text/x-python",
   "name": "python",
   "nbconvert_exporter": "python",
   "pygments_lexer": "ipython3",
   "version": "3.10.8"
  },
  "orig_nbformat": 4
 },
 "nbformat": 4,
 "nbformat_minor": 2
}
