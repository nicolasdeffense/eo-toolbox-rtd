{
 "cells": [
  {
   "attachments": {},
   "cell_type": "markdown",
   "metadata": {},
   "source": [
    "# QGIS Color Map"
   ]
  },
  {
   "attachments": {},
   "cell_type": "markdown",
   "metadata": {},
   "source": [
    "This notebook allows you to create a color map readable by QGIS.\n",
    "\n",
    "> **You must first create a Excel file with your RGB code.**\n",
    "\n",
    "This is an example for the Scene Classification map *(see Sentinel-2 preprocessing)*.\n",
    "\n",
    "<figure class=\"image\">\n",
    "  <img src=\"cmap_scl.png\" alt=\"SCL Color Map\" width=\"600\">\n",
    "</figure>"
   ]
  },
  {
   "cell_type": "code",
   "execution_count": 4,
   "metadata": {},
   "outputs": [
    {
     "name": "stdout",
     "output_type": "stream",
     "text": [
      "Pandas library successfully imported!\n"
     ]
    }
   ],
   "source": [
    "import pandas as pd\n",
    "import os\n",
    "\n",
    "print('Pandas library successfully imported!')"
   ]
  },
  {
   "attachments": {},
   "cell_type": "markdown",
   "metadata": {},
   "source": [
    "**Set directory**"
   ]
  },
  {
   "cell_type": "code",
   "execution_count": 8,
   "metadata": {},
   "outputs": [
    {
     "name": "stdout",
     "output_type": "stream",
     "text": [
      "The folder where your color map is located is : \n",
      " /export/miro/ndeffense/LBRAT2104/STUDENTS/GROUP_99/TP/COLOR_MAP/\n"
     ]
    }
   ],
   "source": [
    "computer_path = '/export/miro/ndeffense/LBRAT2104/'\n",
    "grp_nb        = '99'\n",
    "\n",
    "work_path = f'{computer_path}STUDENTS/GROUP_{grp_nb}/TP/'\n",
    "\n",
    "cmap_path = f'{work_path}COLOR_MAP/'\n",
    "\n",
    "print(f'The folder where your color map is located is : \\n {cmap_path}')"
   ]
  },
  {
   "attachments": {},
   "cell_type": "markdown",
   "metadata": {},
   "source": [
    "**Set parameters**"
   ]
  },
  {
   "cell_type": "code",
   "execution_count": 9,
   "metadata": {},
   "outputs": [],
   "source": [
    "col_with_name = 'scl'\n",
    "col_with_code = f'{col_with_name}_nb'\n",
    "\n",
    "# Input file (.xlsx or .xlsm)\n",
    "cmap_xls = f'{cmap_path}cmap_{col_with_name}.xlsm'\n",
    "\n",
    "# Output file (.clr)\n",
    "cmap_clr = f'{cmap_path}cmap_{col_with_name}.clr'"
   ]
  },
  {
   "attachments": {},
   "cell_type": "markdown",
   "metadata": {},
   "source": [
    "**Check if Excel table color map exists**"
   ]
  },
  {
   "cell_type": "code",
   "execution_count": 11,
   "metadata": {},
   "outputs": [
    {
     "name": "stdout",
     "output_type": "stream",
     "text": [
      "OK excel file exists : \n",
      " /export/miro/ndeffense/LBRAT2104/STUDENTS/GROUP_99/TP/COLOR_MAP/cmap_scl.xlsm\n"
     ]
    }
   ],
   "source": [
    "if not os.path.isfile(cmap_xls):\n",
    "    print(f'Check if the excel file exists and is stored in the right foled \\n {cmap_path}')\n",
    "else:\n",
    "    print(f'OK excel file exists : \\n {cmap_xls}')"
   ]
  },
  {
   "attachments": {},
   "cell_type": "markdown",
   "metadata": {},
   "source": [
    "**Read Excel color map**"
   ]
  },
  {
   "cell_type": "code",
   "execution_count": 12,
   "metadata": {},
   "outputs": [
    {
     "data": {
      "text/html": [
       "<div>\n",
       "<style scoped>\n",
       "    .dataframe tbody tr th:only-of-type {\n",
       "        vertical-align: middle;\n",
       "    }\n",
       "\n",
       "    .dataframe tbody tr th {\n",
       "        vertical-align: top;\n",
       "    }\n",
       "\n",
       "    .dataframe thead th {\n",
       "        text-align: right;\n",
       "    }\n",
       "</style>\n",
       "<table border=\"1\" class=\"dataframe\">\n",
       "  <thead>\n",
       "    <tr style=\"text-align: right;\">\n",
       "      <th></th>\n",
       "      <th>scl_nb</th>\n",
       "      <th>R</th>\n",
       "      <th>G</th>\n",
       "      <th>B</th>\n",
       "      <th>T</th>\n",
       "      <th>scl</th>\n",
       "    </tr>\n",
       "  </thead>\n",
       "  <tbody>\n",
       "    <tr>\n",
       "      <th>0</th>\n",
       "      <td>1</td>\n",
       "      <td>0</td>\n",
       "      <td>0</td>\n",
       "      <td>0</td>\n",
       "      <td>255</td>\n",
       "      <td>No Data (missing data)</td>\n",
       "    </tr>\n",
       "    <tr>\n",
       "      <th>1</th>\n",
       "      <td>2</td>\n",
       "      <td>59</td>\n",
       "      <td>0</td>\n",
       "      <td>0</td>\n",
       "      <td>255</td>\n",
       "      <td>Saturated or defective pixel</td>\n",
       "    </tr>\n",
       "    <tr>\n",
       "      <th>2</th>\n",
       "      <td>3</td>\n",
       "      <td>47</td>\n",
       "      <td>47</td>\n",
       "      <td>47</td>\n",
       "      <td>255</td>\n",
       "      <td>Dark features / Shadows</td>\n",
       "    </tr>\n",
       "    <tr>\n",
       "      <th>3</th>\n",
       "      <td>4</td>\n",
       "      <td>100</td>\n",
       "      <td>50</td>\n",
       "      <td>0</td>\n",
       "      <td>255</td>\n",
       "      <td>Cloud shadows</td>\n",
       "    </tr>\n",
       "    <tr>\n",
       "      <th>4</th>\n",
       "      <td>5</td>\n",
       "      <td>0</td>\n",
       "      <td>161</td>\n",
       "      <td>0</td>\n",
       "      <td>255</td>\n",
       "      <td>Vegetation</td>\n",
       "    </tr>\n",
       "    <tr>\n",
       "      <th>5</th>\n",
       "      <td>6</td>\n",
       "      <td>255</td>\n",
       "      <td>231</td>\n",
       "      <td>90</td>\n",
       "      <td>255</td>\n",
       "      <td>Not-vegetated</td>\n",
       "    </tr>\n",
       "    <tr>\n",
       "      <th>6</th>\n",
       "      <td>7</td>\n",
       "      <td>0</td>\n",
       "      <td>0</td>\n",
       "      <td>255</td>\n",
       "      <td>255</td>\n",
       "      <td>Water</td>\n",
       "    </tr>\n",
       "    <tr>\n",
       "      <th>7</th>\n",
       "      <td>8</td>\n",
       "      <td>129</td>\n",
       "      <td>129</td>\n",
       "      <td>129</td>\n",
       "      <td>255</td>\n",
       "      <td>Unclassified</td>\n",
       "    </tr>\n",
       "    <tr>\n",
       "      <th>8</th>\n",
       "      <td>9</td>\n",
       "      <td>193</td>\n",
       "      <td>193</td>\n",
       "      <td>193</td>\n",
       "      <td>255</td>\n",
       "      <td>Cloud medium probability</td>\n",
       "    </tr>\n",
       "    <tr>\n",
       "      <th>9</th>\n",
       "      <td>10</td>\n",
       "      <td>255</td>\n",
       "      <td>255</td>\n",
       "      <td>255</td>\n",
       "      <td>255</td>\n",
       "      <td>Cloud high probability</td>\n",
       "    </tr>\n",
       "    <tr>\n",
       "      <th>10</th>\n",
       "      <td>11</td>\n",
       "      <td>100</td>\n",
       "      <td>201</td>\n",
       "      <td>255</td>\n",
       "      <td>255</td>\n",
       "      <td>Thin cirrus</td>\n",
       "    </tr>\n",
       "    <tr>\n",
       "      <th>11</th>\n",
       "      <td>12</td>\n",
       "      <td>255</td>\n",
       "      <td>151</td>\n",
       "      <td>255</td>\n",
       "      <td>255</td>\n",
       "      <td>Snow or ice</td>\n",
       "    </tr>\n",
       "  </tbody>\n",
       "</table>\n",
       "</div>"
      ],
      "text/plain": [
       "    scl_nb    R    G    B    T                           scl\n",
       "0        1    0    0    0  255        No Data (missing data)\n",
       "1        2   59    0    0  255  Saturated or defective pixel\n",
       "2        3   47   47   47  255       Dark features / Shadows\n",
       "3        4  100   50    0  255                 Cloud shadows\n",
       "4        5    0  161    0  255                    Vegetation\n",
       "5        6  255  231   90  255                 Not-vegetated\n",
       "6        7    0    0  255  255                         Water\n",
       "7        8  129  129  129  255                  Unclassified\n",
       "8        9  193  193  193  255      Cloud medium probability\n",
       "9       10  255  255  255  255        Cloud high probability\n",
       "10      11  100  201  255  255                   Thin cirrus\n",
       "11      12  255  151  255  255                   Snow or ice"
      ]
     },
     "execution_count": 12,
     "metadata": {},
     "output_type": "execute_result"
    }
   ],
   "source": [
    "df = pd.read_excel(cmap_xls, usecols=[col_with_name,'R','G','B','T',col_with_code])\n",
    "\n",
    "df.dropna(how='all', inplace=True)\n",
    "\n",
    "df = df.astype({'R': 'int32', 'G': 'int32', 'B': 'int32', 'T': 'int32', col_with_code : 'int32'})\n",
    "\n",
    "df"
   ]
  },
  {
   "attachments": {},
   "cell_type": "markdown",
   "metadata": {},
   "source": [
    "**Write color map in QGIS style**"
   ]
  },
  {
   "cell_type": "code",
   "execution_count": 13,
   "metadata": {},
   "outputs": [],
   "source": [
    "f = open(cmap_clr, \"w\")\n",
    "f.write(df.to_string(index=False, header=False))\n",
    "f.close()"
   ]
  },
  {
   "attachments": {},
   "cell_type": "markdown",
   "metadata": {},
   "source": [
    "**Congratulations !**\n",
    "\n",
    "Now, you can open your GeoTIFF in QGIS and load the color map file *(.clr)*\n",
    "\n",
    "\n",
    "<figure class=\"image\">\n",
    "  <img src=\"load_color_map.png\" alt=\"Load Color Map\" width=\"800\">\n",
    "</figure>"
   ]
  }
 ],
 "metadata": {
  "kernelspec": {
   "display_name": "Python 3.6.15 64-bit",
   "language": "python",
   "name": "python3"
  },
  "language_info": {
   "codemirror_mode": {
    "name": "ipython",
    "version": 3
   },
   "file_extension": ".py",
   "mimetype": "text/x-python",
   "name": "python",
   "nbconvert_exporter": "python",
   "pygments_lexer": "ipython3",
   "version": "3.10.8"
  },
  "orig_nbformat": 4,
  "vscode": {
   "interpreter": {
    "hash": "30295c5bec572e859485b1ffa5e89b8b3e2022ef6e3e739c1ac40f143a557caf"
   }
  }
 },
 "nbformat": 4,
 "nbformat_minor": 2
}
